# AIML Practical - Test Assignment
# This file will create a predictions.csv for testing

import pandas as pd

# Create a dummy predictions file (students will replace this logic)
df = pd.DataFrame({
    'id': [1, 2, 3, 4, 5],
    'target_pred': [11, 21, 29, 41, 48]
})

df.to_csv('predictions.csv', index=False)
print("✅ predictions.csv generated with sample values.")
